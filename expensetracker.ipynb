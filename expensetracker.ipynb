{
  "nbformat": 4,
  "nbformat_minor": 0,
  "metadata": {
    "colab": {
      "provenance": [],
      "toc_visible": true,
      "authorship_tag": "ABX9TyOV4FG8fFtX3h7oJrh6bikT",
      "include_colab_link": true
    },
    "kernelspec": {
      "name": "python3",
      "display_name": "Python 3"
    },
    "language_info": {
      "name": "python"
    }
  },
  "cells": [
    {
      "cell_type": "markdown",
      "metadata": {
        "id": "view-in-github",
        "colab_type": "text"
      },
      "source": [
        "<a href=\"https://colab.research.google.com/github/bchakradharreddy/project3/blob/main/expensetracker.ipynb\" target=\"_parent\"><img src=\"https://colab.research.google.com/assets/colab-badge.svg\" alt=\"Open In Colab\"/></a>"
      ]
    },
    {
      "cell_type": "code",
      "source": [
        "import csv\n",
        "#file name\n",
        "EXPENSE_FILE = \"expenses.csv\"\n",
        "#add expenses\n",
        "def add_expense():\n",
        "    date = input(\"Enter date (YYYY-MM-DD): \")\n",
        "    amount = input(\"Enter amount: \")\n",
        "    category = input(\"Enter category: \")\n",
        "#save expenses in file\n",
        "    with open(EXPENSE_FILE, \"a\" ) as file:\n",
        "        writer=csv.writer(file)\n",
        "        writer.writerow([\"date\", \"amount\", \"category\"])\n",
        "#veiw expenses\n",
        "def view_expenses():\n",
        "    with open(EXPENSE_FILE, \"r\") as file:\n",
        "      reader=csv.reader(file)\n",
        "      for row in reader:\n",
        "        print(\" , \".join(row))\n",
        "while True:\n",
        "  print(\"\\nExpense Tracker:\")\n",
        "  print(\"1. Add Expense\")\n",
        "  print(\"2. View Expenses\")\n",
        "  print(\"3. Exit\")\n",
        "  choose=input(\"choose option\")\n",
        "  if choose==\"1\":\n",
        "    add_expense()\n",
        "  elif choose==\"2\":\n",
        "    view_expenses()\n",
        "  elif choose==\"3\":\n",
        "    print(\"exiting\")\n",
        "    break\n",
        "  else:\n",
        "    print(\"enter the correct: \")\n"
      ],
      "metadata": {
        "colab": {
          "base_uri": "https://localhost:8080/"
        },
        "id": "uQCzuDbXWkLO",
        "outputId": "ea966cb5-98e4-4500-d986-d2bf7677569d"
      },
      "execution_count": null,
      "outputs": [
        {
          "output_type": "stream",
          "name": "stdout",
          "text": [
            "\n",
            "Expense Tracker:\n",
            "1. Add Expense\n",
            "2. View Expenses\n",
            "3. Exit\n",
            "choose option1\n",
            "Enter date (YYYY-MM-DD): 2024-01-01\n",
            "Enter amount: 500\n",
            "Enter category: newyear\n",
            "\n",
            "Expense Tracker:\n",
            "1. Add Expense\n",
            "2. View Expenses\n",
            "3. Exit\n",
            "choose option2\n",
            "2888-12-22 , 333 , movie\n",
            "2222-12-22 , 333 , moive\n",
            "3333-11-44 , 444 , food\n",
            "2222-54-55 , 444 , dfgh\n",
            "2006-12-04 , 4445 , sdfghjk\n",
            "2022-12-31 , 500 , newuear\n",
            "2024-09-14 , 500 , birthday\n",
            "date , amount , category\n",
            "2023-12-11 , 333 , movie\n",
            "date , amount , category\n",
            "2024-01-01 , 500 , newyear\n",
            "\n",
            "Expense Tracker:\n",
            "1. Add Expense\n",
            "2. View Expenses\n",
            "3. Exit\n",
            "choose option3\n",
            "exiting\n"
          ]
        }
      ]
    },
    {
      "cell_type": "code",
      "source": [],
      "metadata": {
        "id": "-6b4-C2xhsO_"
      },
      "execution_count": null,
      "outputs": []
    }
  ]
}